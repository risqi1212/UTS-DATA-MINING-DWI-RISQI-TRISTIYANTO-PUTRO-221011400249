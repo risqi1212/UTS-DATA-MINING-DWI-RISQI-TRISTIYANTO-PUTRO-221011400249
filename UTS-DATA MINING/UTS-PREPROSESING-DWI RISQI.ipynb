{
 "cells": [
  {
   "cell_type": "code",
   "execution_count": 1,
   "id": "65470e9f",
   "metadata": {},
   "outputs": [
    {
     "data": {
      "text/html": [
       "<div>\n",
       "<style scoped>\n",
       "    .dataframe tbody tr th:only-of-type {\n",
       "        vertical-align: middle;\n",
       "    }\n",
       "\n",
       "    .dataframe tbody tr th {\n",
       "        vertical-align: top;\n",
       "    }\n",
       "\n",
       "    .dataframe thead th {\n",
       "        text-align: right;\n",
       "    }\n",
       "</style>\n",
       "<table border=\"1\" class=\"dataframe\">\n",
       "  <thead>\n",
       "    <tr style=\"text-align: right;\">\n",
       "      <th></th>\n",
       "      <th>R&amp;D Spend</th>\n",
       "      <th>Administration</th>\n",
       "      <th>Marketing Spend</th>\n",
       "      <th>State</th>\n",
       "      <th>Profit</th>\n",
       "    </tr>\n",
       "  </thead>\n",
       "  <tbody>\n",
       "    <tr>\n",
       "      <th>19</th>\n",
       "      <td>86419.70</td>\n",
       "      <td>153514.11</td>\n",
       "      <td>NaN</td>\n",
       "      <td>New York</td>\n",
       "      <td>122776.86</td>\n",
       "    </tr>\n",
       "    <tr>\n",
       "      <th>40</th>\n",
       "      <td>28754.33</td>\n",
       "      <td>118546.05</td>\n",
       "      <td>172795.67</td>\n",
       "      <td>California</td>\n",
       "      <td>78239.91</td>\n",
       "    </tr>\n",
       "    <tr>\n",
       "      <th>4</th>\n",
       "      <td>142107.34</td>\n",
       "      <td>91391.77</td>\n",
       "      <td>366168.42</td>\n",
       "      <td>Florida</td>\n",
       "      <td>166187.94</td>\n",
       "    </tr>\n",
       "    <tr>\n",
       "      <th>37</th>\n",
       "      <td>44069.95</td>\n",
       "      <td>NaN</td>\n",
       "      <td>197029.42</td>\n",
       "      <td>California</td>\n",
       "      <td>89949.14</td>\n",
       "    </tr>\n",
       "    <tr>\n",
       "      <th>17</th>\n",
       "      <td>94657.16</td>\n",
       "      <td>145077.58</td>\n",
       "      <td>282574.31</td>\n",
       "      <td>New York</td>\n",
       "      <td>125370.37</td>\n",
       "    </tr>\n",
       "    <tr>\n",
       "      <th>27</th>\n",
       "      <td>72107.60</td>\n",
       "      <td>127864.55</td>\n",
       "      <td>353183.81</td>\n",
       "      <td>New York</td>\n",
       "      <td>105008.31</td>\n",
       "    </tr>\n",
       "    <tr>\n",
       "      <th>10</th>\n",
       "      <td>NaN</td>\n",
       "      <td>110594.11</td>\n",
       "      <td>229160.95</td>\n",
       "      <td>Florida</td>\n",
       "      <td>146121.95</td>\n",
       "    </tr>\n",
       "  </tbody>\n",
       "</table>\n",
       "</div>"
      ],
      "text/plain": [
       "    R&D Spend  Administration  Marketing Spend       State     Profit\n",
       "19   86419.70       153514.11              NaN    New York  122776.86\n",
       "40   28754.33       118546.05        172795.67  California   78239.91\n",
       "4   142107.34        91391.77        366168.42     Florida  166187.94\n",
       "37   44069.95             NaN        197029.42  California   89949.14\n",
       "17   94657.16       145077.58        282574.31    New York  125370.37\n",
       "27   72107.60       127864.55        353183.81    New York  105008.31\n",
       "10        NaN       110594.11        229160.95     Florida  146121.95"
      ]
     },
     "execution_count": 1,
     "metadata": {},
     "output_type": "execute_result"
    }
   ],
   "source": [
    "import pandas as pd\n",
    "\n",
    "# Membaca data dari file CSV\n",
    "data_startup = pd.read_csv('50_Startups.csv')\n",
    "data_startup.sample(7)"
   ]
  },
  {
   "cell_type": "code",
   "execution_count": null,
   "id": "7eeb834c",
   "metadata": {},
   "outputs": [],
   "source": [
    "missing_data_columns = data_startup.columns[data_startup.isnull().any()].tolist()"
   ]
  },
  {
   "cell_type": "code",
   "execution_count": null,
   "id": "c2138fb5",
   "metadata": {},
   "outputs": [],
   "source": [
    "mean_values = {column: data_startup[column].mean() for column in missing_data_columns}"
   ]
  },
  {
   "cell_type": "code",
   "execution_count": null,
   "id": "18519ac5",
   "metadata": {},
   "outputs": [],
   "source": [
    "data_startup.fillna(mean_values, inplace=True)"
   ]
  },
  {
   "cell_type": "code",
   "execution_count": 2,
   "id": "4567fdf4",
   "metadata": {},
   "outputs": [
    {
     "name": "stdout",
     "output_type": "stream",
     "text": [
      "    R&D Spend  Administration  Marketing Spend       State     Profit\n",
      "14  119943.24       156547.42        256512.92     Florida  132602.65\n",
      "42   23640.93        96189.63        148001.11  California   71498.49\n",
      "18   91749.16       114175.79        294919.57     Florida  124266.90\n",
      "20   76253.86       113867.30        298664.47  California  118474.03\n",
      "3   144372.41       118671.85        383199.62    New York  182901.99\n",
      "6   134615.46       147198.87        127716.82  California  156122.51\n",
      "15  114523.61       122616.84        261776.23    New York  129917.04\n"
     ]
    }
   ],
   "source": [
    "print(data_startup.sample(7))"
   ]
  },
  {
   "cell_type": "code",
   "execution_count": null,
   "id": "da9d7f90",
   "metadata": {},
   "outputs": [],
   "source": []
  },
  {
   "cell_type": "code",
   "execution_count": 4,
   "id": "7e0fc9c3",
   "metadata": {},
   "outputs": [
    {
     "name": "stdout",
     "output_type": "stream",
     "text": [
      "    R&D Spend  Administration  Marketing Spend     Profit  State_California  \\\n",
      "35   46014.02        85047.44        205517.64   96479.51             False   \n",
      "48     542.05        51743.15              NaN   35673.41             False   \n",
      "34   46426.07       157693.92        210797.67   96712.80              True   \n",
      "28   66051.52       182645.56        118148.20  103282.38             False   \n",
      "46    1315.46       115816.21        297114.46   49490.75             False   \n",
      "2   153441.51       101145.55        407934.54  191050.39             False   \n",
      "17   94657.16       145077.58        282574.31  125370.37             False   \n",
      "22   73994.56       122782.75        303319.26  110352.25             False   \n",
      "20   76253.86       113867.30        298664.47  118474.03              True   \n",
      "27   72107.60       127864.55        353183.81  105008.31             False   \n",
      "\n",
      "    State_Florida  State_New York  \n",
      "35          False            True  \n",
      "48          False            True  \n",
      "34          False           False  \n",
      "28           True           False  \n",
      "46           True           False  \n",
      "2            True           False  \n",
      "17          False            True  \n",
      "22           True           False  \n",
      "20          False           False  \n",
      "27          False            True  \n"
     ]
    }
   ],
   "source": [
    "data_encoded = pd.get_dummies(data_startup, columns=['State'])\n",
    "\n",
    "# Menampilkan hasil encoding\n",
    "print(data_encoded.sample(10))"
   ]
  },
  {
   "cell_type": "code",
   "execution_count": null,
   "id": "f8c011c8",
   "metadata": {},
   "outputs": [],
   "source": []
  },
  {
   "cell_type": "code",
   "execution_count": 8,
   "id": "d00cc657",
   "metadata": {},
   "outputs": [
    {
     "name": "stdout",
     "output_type": "stream",
     "text": [
      "    R&D Spend  Administration  Marketing Spend       State     Profit  \\\n",
      "21   78389.47       153773.43        299737.29    New York  111313.02   \n",
      "45    1000.23       124153.04          1903.93    New York   64926.08   \n",
      "28   66051.52       182645.56        118148.20     Florida  103282.38   \n",
      "44   22177.74       154806.14         28334.72  California   65200.33   \n",
      "40   28754.33       118546.05        172795.67  California   78239.91   \n",
      "37   44069.95             NaN        197029.42  California   89949.14   \n",
      "39   38558.51        82982.09        174999.30  California   81005.76   \n",
      "\n",
      "           Tax  \n",
      "21  28241.1870  \n",
      "45   9549.1525  \n",
      "28  20203.8070  \n",
      "44  12417.0595  \n",
      "40  18479.0815  \n",
      "37         NaN  \n",
      "39  16949.3575  \n"
     ]
    }
   ],
   "source": [
    "#3 buat field baru yaitu Tax. dimana Tax = (profit + Marketing Spend + administration) * 5%\n",
    "import pandas as pd\n",
    "\n",
    "# Membaca data dari file CSV\n",
    "data_startup = pd.read_csv('50_Startups.csv')\n",
    "\n",
    "# Menghitung Tax berdasarkan rumus yang diberikan\n",
    "data_startup['Tax'] = (data_startup['Profit'] + data_startup['Marketing Spend'] + data_startup['Administration']) * 0.05\n",
    "\n",
    "# Menampilkan hasil dengan kolom Tax baru\n",
    "print(data_startup.sample(7))"
   ]
  },
  {
   "cell_type": "code",
   "execution_count": null,
   "id": "54a60913",
   "metadata": {},
   "outputs": [],
   "source": []
  },
  {
   "cell_type": "code",
   "execution_count": 7,
   "id": "06389609",
   "metadata": {},
   "outputs": [
    {
     "name": "stdout",
     "output_type": "stream",
     "text": [
      "    R&D Spend  Administration  Marketing Spend       State    Profit\n",
      "29  -0.248746        1.152066        -1.023343    New York -0.267530\n",
      "10        NaN       -0.464609         0.049023     Florida  0.845323\n",
      "48  -1.695916       -2.706537              NaN    New York -1.878976\n",
      "46  -1.678714       -0.265673         0.646216     Florida -1.538160\n",
      "42  -1.182141       -1.013347        -0.664231  California -0.995322\n",
      "25  -0.269671        0.638587        -0.752451  California -0.109677\n",
      "4    1.452843       -1.196122         1.253080     Florida  1.340266\n"
     ]
    }
   ],
   "source": [
    "#4 Jalankan standardScaler field-field tersebut\n",
    "\n",
    "from sklearn.preprocessing import StandardScaler\n",
    "import pandas as pd\n",
    "\n",
    "# Membaca data dari file CSV\n",
    "data_startup = pd.read_csv('50_Startups.csv')\n",
    "\n",
    "# Mengambil kolom numerik untuk scaling\n",
    "numeric_columns = data_startup.select_dtypes(include=['float64', 'int64']).columns\n",
    "\n",
    "# Inisialisasi StandardScaler\n",
    "scaler = StandardScaler()\n",
    "\n",
    "# Fitting dan transformasi data\n",
    "data_startup[numeric_columns] = scaler.fit_transform(data_startup[numeric_columns])\n",
    "\n",
    "# Menampilkan hasil scaling\n",
    "print(data_startup.sample(7))"
   ]
  },
  {
   "cell_type": "code",
   "execution_count": null,
   "id": "a9983714",
   "metadata": {},
   "outputs": [],
   "source": []
  }
 ],
 "metadata": {
  "kernelspec": {
   "display_name": "Python 3 (ipykernel)",
   "language": "python",
   "name": "python3"
  },
  "language_info": {
   "codemirror_mode": {
    "name": "ipython",
    "version": 3
   },
   "file_extension": ".py",
   "mimetype": "text/x-python",
   "name": "python",
   "nbconvert_exporter": "python",
   "pygments_lexer": "ipython3",
   "version": "3.11.7"
  }
 },
 "nbformat": 4,
 "nbformat_minor": 5
}
